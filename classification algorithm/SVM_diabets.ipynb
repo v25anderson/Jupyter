{
 "cells": [
  {
   "cell_type": "markdown",
   "id": "e55aaca0-a2a1-4828-aeaa-4fdf5cbb4c05",
   "metadata": {},
   "source": [
    "Nome: Vinicius Anderson Silva da Silva<br>\n",
    "Engenharia da Computação\n",
    "    "
   ]
  },
  {
   "cell_type": "markdown",
   "id": "ae88ee7e-5106-4d06-92cf-612605f1ad05",
   "metadata": {},
   "source": [
    "# <center> **Estudo de Caso 1** </center>\n",
    "\n",
    "<p> Um dos mais importantes processos metabólicos do organismo é a conversão de\n",
    "alimentos em energia e calor, dentro do corpo. Os alimentos são constituídos de três\n",
    "nutrientes principais: <p>\n",
    "• Carboidratos - (digestão) Glicose<br>\n",
    "• Proteínas - (digestão) Aminoácidos<br>\n",
    "• Gorduras - (digestão) Ácidos Graxos<br>\n",
    "<p>Quando o organismo falha no processo de execução deste processo metabólico, ele é\n",
    "caracterizado como diabético. Diabete é uma anormalidade caracterizada por uma\n",
    "quantidade de açúcar em excesso no sangue e na urina. A diabete mata e não tem cura\n",
    "mais pode ser controlada, por isso é importante diagnosticá-la o quanto antes.<p>\n",
    "<p>Projete e implemente em python, um algoritmo de classificação através de Máquinas de\n",
    "vetores de Suporte, que classifique os pacientes como diabético ou não diabético, a\n",
    "partir das 8 entradas listadas a seguir:<p>\n",
    "1. Número de vezes que ficou grávida<br>\n",
    "2. Concentração de glicose no Plasma em teste de tolerância de glicose oral<br>\n",
    "3. Pressão sangüínea Diastólica (mm Hg)<br>\n",
    "4. Dobras na pele do tríceps (mm)<br>\n",
    "5. 2-Horas de insulina de soro (mu U/ml)<br>\n",
    "6. Índice de massa corpórea (peso em kg/(altura em m 2 )<br>\n",
    "7. Função de genealogia de diabete<br>\n",
    "8. Idade (anos)<br><br>\n",
    "(*) massa de dados: diabetes_test"
   ]
  },
  {
   "cell_type": "markdown",
   "id": "a4193bfa-ece1-48b5-9909-dc74000c2484",
   "metadata": {},
   "source": [
    "# FASE 01- EXPLORAÇÃO DA BASE DE DADOS"
   ]
  },
  {
   "cell_type": "code",
   "execution_count": 212,
   "id": "00e17d9d-6d2d-4df6-9a84-5e6d45c871ee",
   "metadata": {},
   "outputs": [
    {
     "data": {
      "text/plain": [
       "Index(['GRAVIDEZ', 'GLICOSE', 'PRESSAO', 'DOBRAS', 'INSULINA', 'IMC',\n",
       "       'GENEALOGIA', 'IDADE', 'SAIDA'],\n",
       "      dtype='object')"
      ]
     },
     "execution_count": 212,
     "metadata": {},
     "output_type": "execute_result"
    }
   ],
   "source": [
    "\n",
    "%matplotlib inline\n",
    "import pandas as pd\n",
    "import numpy as np\n",
    "import matplotlib.pyplot as plt\n",
    "import seaborn as sns\n",
    "diabetes = pd.read_csv('teste_diabetes3.csv',encoding= \"UTF-8\", sep = \",\")\n",
    "diabetes.columns \n",
    "#diabetes.dtypes\n",
    "#diabetes['IMC']= diabetes.IMC.astype(float)\n"
   ]
  },
  {
   "cell_type": "code",
   "execution_count": 213,
   "id": "23a7d615-ca1d-4818-bce6-9aaa77780597",
   "metadata": {},
   "outputs": [
    {
     "data": {
      "text/html": [
       "<div>\n",
       "<style scoped>\n",
       "    .dataframe tbody tr th:only-of-type {\n",
       "        vertical-align: middle;\n",
       "    }\n",
       "\n",
       "    .dataframe tbody tr th {\n",
       "        vertical-align: top;\n",
       "    }\n",
       "\n",
       "    .dataframe thead th {\n",
       "        text-align: right;\n",
       "    }\n",
       "</style>\n",
       "<table border=\"1\" class=\"dataframe\">\n",
       "  <thead>\n",
       "    <tr style=\"text-align: right;\">\n",
       "      <th></th>\n",
       "      <th>GRAVIDEZ</th>\n",
       "      <th>GLICOSE</th>\n",
       "      <th>PRESSAO</th>\n",
       "      <th>DOBRAS</th>\n",
       "      <th>INSULINA</th>\n",
       "      <th>IMC</th>\n",
       "      <th>GENEALOGIA</th>\n",
       "      <th>IDADE</th>\n",
       "      <th>SAIDA</th>\n",
       "    </tr>\n",
       "  </thead>\n",
       "  <tbody>\n",
       "    <tr>\n",
       "      <th>0</th>\n",
       "      <td>6</td>\n",
       "      <td>148</td>\n",
       "      <td>72</td>\n",
       "      <td>35</td>\n",
       "      <td>0</td>\n",
       "      <td>33.6</td>\n",
       "      <td>0.6</td>\n",
       "      <td>50</td>\n",
       "      <td>2</td>\n",
       "    </tr>\n",
       "    <tr>\n",
       "      <th>1</th>\n",
       "      <td>1</td>\n",
       "      <td>85</td>\n",
       "      <td>66</td>\n",
       "      <td>29</td>\n",
       "      <td>0</td>\n",
       "      <td>26.6</td>\n",
       "      <td>0.4</td>\n",
       "      <td>31</td>\n",
       "      <td>1</td>\n",
       "    </tr>\n",
       "    <tr>\n",
       "      <th>2</th>\n",
       "      <td>8</td>\n",
       "      <td>183</td>\n",
       "      <td>64</td>\n",
       "      <td>0</td>\n",
       "      <td>0</td>\n",
       "      <td>23.3</td>\n",
       "      <td>0.7</td>\n",
       "      <td>32</td>\n",
       "      <td>2</td>\n",
       "    </tr>\n",
       "    <tr>\n",
       "      <th>3</th>\n",
       "      <td>1</td>\n",
       "      <td>89</td>\n",
       "      <td>66</td>\n",
       "      <td>23</td>\n",
       "      <td>94</td>\n",
       "      <td>28.1</td>\n",
       "      <td>0.2</td>\n",
       "      <td>21</td>\n",
       "      <td>1</td>\n",
       "    </tr>\n",
       "    <tr>\n",
       "      <th>4</th>\n",
       "      <td>0</td>\n",
       "      <td>137</td>\n",
       "      <td>40</td>\n",
       "      <td>35</td>\n",
       "      <td>168</td>\n",
       "      <td>43.1</td>\n",
       "      <td>2.3</td>\n",
       "      <td>33</td>\n",
       "      <td>2</td>\n",
       "    </tr>\n",
       "  </tbody>\n",
       "</table>\n",
       "</div>"
      ],
      "text/plain": [
       "   GRAVIDEZ  GLICOSE  PRESSAO  DOBRAS  INSULINA   IMC  GENEALOGIA  IDADE  \\\n",
       "0         6      148       72      35         0  33.6         0.6     50   \n",
       "1         1       85       66      29         0  26.6         0.4     31   \n",
       "2         8      183       64       0         0  23.3         0.7     32   \n",
       "3         1       89       66      23        94  28.1         0.2     21   \n",
       "4         0      137       40      35       168  43.1         2.3     33   \n",
       "\n",
       "   SAIDA  \n",
       "0      2  \n",
       "1      1  \n",
       "2      2  \n",
       "3      1  \n",
       "4      2  "
      ]
     },
     "execution_count": 213,
     "metadata": {},
     "output_type": "execute_result"
    }
   ],
   "source": [
    "diabetes.head()\n"
   ]
  },
  {
   "cell_type": "code",
   "execution_count": 214,
   "id": "638e06bd-e436-4ec4-95a7-8f9c86ab53f4",
   "metadata": {},
   "outputs": [
    {
     "name": "stdout",
     "output_type": "stream",
     "text": [
      "Diabetes data set dimensions : (768, 9)\n"
     ]
    }
   ],
   "source": [
    "print(\"Diabetes data set dimensions : {}\".format(diabetes.shape))"
   ]
  },
  {
   "cell_type": "code",
   "execution_count": 215,
   "id": "25724beb-356e-42ca-9d46-d82cf669b604",
   "metadata": {},
   "outputs": [
    {
     "data": {
      "text/plain": [
       "SAIDA\n",
       "1    500\n",
       "2    268\n",
       "dtype: int64"
      ]
     },
     "execution_count": 215,
     "metadata": {},
     "output_type": "execute_result"
    }
   ],
   "source": [
    "\n",
    "diabetes.groupby('SAIDA').size()"
   ]
  },
  {
   "cell_type": "code",
   "execution_count": 216,
   "id": "3b47ab72-c085-4965-899b-df9337f1fa09",
   "metadata": {},
   "outputs": [
    {
     "data": {
      "text/plain": [
       "SAIDA\n",
       "1    [[AxesSubplot(0.125,0.670278;0.215278x0.209722...\n",
       "2    [[AxesSubplot(0.125,0.670278;0.215278x0.209722...\n",
       "dtype: object"
      ]
     },
     "execution_count": 216,
     "metadata": {},
     "output_type": "execute_result"
    },
    {
     "data": {
      "image/png": "[encoded data removed]",
      "text/plain": [
       "<Figure size 648x648 with 9 Axes>"
      ]
     },
     "metadata": {
      "needs_background": "light"
     },
     "output_type": "display_data"
    },
    {
     "data": {
      "image/png": "[encoded data removed]",
      "text/plain": [
       "<Figure size 648x648 with 9 Axes>"
      ]
     },
     "metadata": {
      "needs_background": "light"
     },
     "output_type": "display_data"
    }
   ],
   "source": [
    "diabetes.groupby('SAIDA').hist(figsize=(9, 9))"
   ]
  },
  {
   "cell_type": "markdown",
   "id": "eafc506b-20ef-4624-87ee-6c8c2dbef27b",
   "metadata": {},
   "source": [
    "# FASE 02- LIMPAR BASE DE DADOS"
   ]
  },
  {
   "cell_type": "code",
   "execution_count": 217,
   "id": "7dac855b-2a2f-494e-a061-b26127628cfa",
   "metadata": {},
   "outputs": [
    {
     "data": {
      "text/plain": [
       "GRAVIDEZ      0\n",
       "GLICOSE       0\n",
       "PRESSAO       0\n",
       "DOBRAS        0\n",
       "INSULINA      0\n",
       "IMC           0\n",
       "GENEALOGIA    0\n",
       "IDADE         0\n",
       "SAIDA         0\n",
       "dtype: int64"
      ]
     },
     "execution_count": 217,
     "metadata": {},
     "output_type": "execute_result"
    }
   ],
   "source": [
    "diabetes.isnull().sum()\n",
    "diabetes.isna().sum()"
   ]
  },
  {
   "cell_type": "code",
   "execution_count": 218,
   "id": "b8fb48b4-ff90-4a16-a939-9cb8fdde8ea6",
   "metadata": {},
   "outputs": [
    {
     "name": "stdout",
     "output_type": "stream",
     "text": [
      "Total :  35\n",
      "SAIDA\n",
      "1    19\n",
      "2    16\n",
      "Name: IDADE, dtype: int64\n"
     ]
    }
   ],
   "source": [
    "#Pontos fora da curva\n",
    "       #Pressão Sanguinea\n",
    "print(\"Total : \", diabetes[diabetes.PRESSAO == 0].shape[0])\n",
    "print(diabetes[diabetes.PRESSAO == 0].groupby('SAIDA')['IDADE'].count())"
   ]
  },
  {
   "cell_type": "code",
   "execution_count": 219,
   "id": "d162341d-f4a4-45ab-970e-7ec9763003f7",
   "metadata": {},
   "outputs": [
    {
     "name": "stdout",
     "output_type": "stream",
     "text": [
      "Total :  5\n",
      "SAIDA\n",
      "1    3\n",
      "2    2\n",
      "Name: IDADE, dtype: int64\n"
     ]
    }
   ],
   "source": [
    "#Glicose\n",
    "print(\"Total : \", diabetes[diabetes.GLICOSE == 0].shape[0])\n",
    "print(diabetes[diabetes.GLICOSE == 0].groupby('SAIDA')['IDADE'].count())"
   ]
  },
  {
   "cell_type": "code",
   "execution_count": 220,
   "id": "faa3114d-03cd-4928-8fe5-dc5ac39f91bf",
   "metadata": {},
   "outputs": [
    {
     "name": "stdout",
     "output_type": "stream",
     "text": [
      "Total :  227\n",
      "SAIDA\n",
      "1    139\n",
      "2     88\n",
      "Name: IDADE, dtype: int64\n"
     ]
    }
   ],
   "source": [
    "#Dobras\n",
    "print(\"Total : \", diabetes[diabetes.DOBRAS == 0].shape[0])\n",
    "print(diabetes[diabetes.DOBRAS == 0].groupby('SAIDA')['IDADE'].count())"
   ]
  },
  {
   "cell_type": "code",
   "execution_count": 221,
   "id": "724b5c1f-22e9-4ad7-9fd7-8d6f84a2e5af",
   "metadata": {},
   "outputs": [
    {
     "name": "stdout",
     "output_type": "stream",
     "text": [
      "Total :  11\n",
      "SAIDA\n",
      "1    9\n",
      "2    2\n",
      "Name: IDADE, dtype: int64\n"
     ]
    }
   ],
   "source": [
    "#IMC\n",
    "print(\"Total : \", diabetes[diabetes.IMC == 0].shape[0])\n",
    "print(diabetes[diabetes.IMC == 0].groupby('SAIDA')['IDADE'].count())"
   ]
  },
  {
   "cell_type": "code",
   "execution_count": 222,
   "id": "4cca3a4d-adc4-444e-b58f-11d5d49b67a4",
   "metadata": {},
   "outputs": [
    {
     "name": "stdout",
     "output_type": "stream",
     "text": [
      "Total :  374\n",
      "SAIDA\n",
      "1    236\n",
      "2    138\n",
      "Name: IDADE, dtype: int64\n"
     ]
    }
   ],
   "source": [
    "#Insulina\n",
    "print(\"Total : \", diabetes[diabetes.INSULINA == 0].shape[0])\n",
    "print(diabetes[diabetes.INSULINA == 0].groupby('SAIDA')['IDADE'].count())"
   ]
  },
  {
   "cell_type": "code",
   "execution_count": 223,
   "id": "50549e6b-71af-4d4a-accf-233513762a5a",
   "metadata": {},
   "outputs": [
    {
     "name": "stdout",
     "output_type": "stream",
     "text": [
      "(724, 9)\n"
     ]
    }
   ],
   "source": [
    "#Removendo Pressão, IMC e Glisoce iguais a 0(zero)\n",
    "diabetes_mod = diabetes[(diabetes.PRESSAO != 0) & (diabetes.IMC != 0) & (diabetes.GLICOSE != 0)]\n",
    "print(diabetes_mod.shape)\n"
   ]
  },
  {
   "cell_type": "markdown",
   "id": "d5ae3dd2-9216-4961-ab52-516a5739cf54",
   "metadata": {},
   "source": [
    "# FASE 03- PRÉ PROCESSAMENTO\n"
   ]
  },
  {
   "cell_type": "code",
   "execution_count": 224,
   "id": "a51cb936-6444-44d0-93bb-c13513da8a8d",
   "metadata": {},
   "outputs": [],
   "source": [
    "# Separação em conjuntos de treino e teste\n",
    "array = diabetes.values\n",
    "X = array[:, 0:8].astype(float)\n",
    "Y = array[:, 8]\n",
    "test_size = 0.20\n",
    "seed = 7\n",
    "X_train, X_test, Y_train, Y_test = train_test_split(X, Y, test_size=test_size, random_state=seed)"
   ]
  },
  {
   "cell_type": "code",
   "execution_count": 225,
   "id": "a1ba507e-284a-4d41-a66b-b8c03a445f5a",
   "metadata": {},
   "outputs": [],
   "source": [
    "# Parâmetros\n",
    "num_folds = 10\n",
    "scoring = 'accuracy'"
   ]
  },
  {
   "cell_type": "code",
   "execution_count": 226,
   "id": "a7e4c83f-6c78-4ea3-8e99-60ad012d7e76",
   "metadata": {},
   "outputs": [],
   "source": [
    "#Modelos\n",
    "from sklearn.neighbors import KNeighborsClassifier\n",
    "from sklearn.svm import SVC\n",
    "from sklearn.linear_model import LogisticRegression\n",
    "from sklearn.tree import DecisionTreeClassifier\n",
    "from sklearn.naive_bayes import GaussianNB\n",
    "from sklearn.ensemble import RandomForestClassifier\n",
    "from sklearn.ensemble import GradientBoostingClassifier"
   ]
  },
  {
   "cell_type": "code",
   "execution_count": 227,
   "id": "a48d0543-96bf-4038-8799-f5b38dd7235d",
   "metadata": {},
   "outputs": [],
   "source": [
    "#Modelos\n",
    "models = []\n",
    "models.append(('KNN', KNeighborsClassifier()))\n",
    "models.append(('SVC', SVC()))\n",
    "models.append(('LR', LogisticRegression()))\n",
    "models.append(('DT', DecisionTreeClassifier()))\n",
    "models.append(('GNB', GaussianNB()))\n",
    "models.append(('RF', RandomForestClassifier()))\n",
    "models.append(('GB', GradientBoostingClassifier()))"
   ]
  },
  {
   "cell_type": "code",
   "execution_count": 228,
   "id": "f6c56dc8-3bcf-4dd6-a77c-0da78cc64af6",
   "metadata": {},
   "outputs": [
    {
     "name": "stderr",
     "output_type": "stream",
     "text": [
      "c:\\users\\vinicius silva\\appdata\\local\\programs\\python\\python39\\lib\\site-packages\\sklearn\\linear_model\\_logistic.py:763: ConvergenceWarning: lbfgs failed to converge (status=1):\n",
      "STOP: TOTAL NO. of ITERATIONS REACHED LIMIT.\n",
      "\n",
      "Increase the number of iterations (max_iter) or scale the data as shown in:\n",
      "    https://scikit-learn.org/stable/modules/preprocessing.html\n",
      "Please also refer to the documentation for alternative solver options:\n",
      "    https://scikit-learn.org/stable/modules/linear_model.html#logistic-regression\n",
      "  n_iter_i = _check_optimize_result(\n",
      "c:\\users\\vinicius silva\\appdata\\local\\programs\\python\\python39\\lib\\site-packages\\sklearn\\linear_model\\_logistic.py:763: ConvergenceWarning: lbfgs failed to converge (status=1):\n",
      "STOP: TOTAL NO. of ITERATIONS REACHED LIMIT.\n",
      "\n",
      "Increase the number of iterations (max_iter) or scale the data as shown in:\n",
      "    https://scikit-learn.org/stable/modules/preprocessing.html\n",
      "Please also refer to the documentation for alternative solver options:\n",
      "    https://scikit-learn.org/stable/modules/linear_model.html#logistic-regression\n",
      "  n_iter_i = _check_optimize_result(\n",
      "c:\\users\\vinicius silva\\appdata\\local\\programs\\python\\python39\\lib\\site-packages\\sklearn\\linear_model\\_logistic.py:763: ConvergenceWarning: lbfgs failed to converge (status=1):\n",
      "STOP: TOTAL NO. of ITERATIONS REACHED LIMIT.\n",
      "\n",
      "Increase the number of iterations (max_iter) or scale the data as shown in:\n",
      "    https://scikit-learn.org/stable/modules/preprocessing.html\n",
      "Please also refer to the documentation for alternative solver options:\n",
      "    https://scikit-learn.org/stable/modules/linear_model.html#logistic-regression\n",
      "  n_iter_i = _check_optimize_result(\n",
      "c:\\users\\vinicius silva\\appdata\\local\\programs\\python\\python39\\lib\\site-packages\\sklearn\\linear_model\\_logistic.py:763: ConvergenceWarning: lbfgs failed to converge (status=1):\n",
      "STOP: TOTAL NO. of ITERATIONS REACHED LIMIT.\n",
      "\n",
      "Increase the number of iterations (max_iter) or scale the data as shown in:\n",
      "    https://scikit-learn.org/stable/modules/preprocessing.html\n",
      "Please also refer to the documentation for alternative solver options:\n",
      "    https://scikit-learn.org/stable/modules/linear_model.html#logistic-regression\n",
      "  n_iter_i = _check_optimize_result(\n",
      "c:\\users\\vinicius silva\\appdata\\local\\programs\\python\\python39\\lib\\site-packages\\sklearn\\linear_model\\_logistic.py:763: ConvergenceWarning: lbfgs failed to converge (status=1):\n",
      "STOP: TOTAL NO. of ITERATIONS REACHED LIMIT.\n",
      "\n",
      "Increase the number of iterations (max_iter) or scale the data as shown in:\n",
      "    https://scikit-learn.org/stable/modules/preprocessing.html\n",
      "Please also refer to the documentation for alternative solver options:\n",
      "    https://scikit-learn.org/stable/modules/linear_model.html#logistic-regression\n",
      "  n_iter_i = _check_optimize_result(\n",
      "c:\\users\\vinicius silva\\appdata\\local\\programs\\python\\python39\\lib\\site-packages\\sklearn\\linear_model\\_logistic.py:763: ConvergenceWarning: lbfgs failed to converge (status=1):\n",
      "STOP: TOTAL NO. of ITERATIONS REACHED LIMIT.\n",
      "\n",
      "Increase the number of iterations (max_iter) or scale the data as shown in:\n",
      "    https://scikit-learn.org/stable/modules/preprocessing.html\n",
      "Please also refer to the documentation for alternative solver options:\n",
      "    https://scikit-learn.org/stable/modules/linear_model.html#logistic-regression\n",
      "  n_iter_i = _check_optimize_result(\n",
      "c:\\users\\vinicius silva\\appdata\\local\\programs\\python\\python39\\lib\\site-packages\\sklearn\\linear_model\\_logistic.py:763: ConvergenceWarning: lbfgs failed to converge (status=1):\n",
      "STOP: TOTAL NO. of ITERATIONS REACHED LIMIT.\n",
      "\n",
      "Increase the number of iterations (max_iter) or scale the data as shown in:\n",
      "    https://scikit-learn.org/stable/modules/preprocessing.html\n",
      "Please also refer to the documentation for alternative solver options:\n",
      "    https://scikit-learn.org/stable/modules/linear_model.html#logistic-regression\n",
      "  n_iter_i = _check_optimize_result(\n",
      "c:\\users\\vinicius silva\\appdata\\local\\programs\\python\\python39\\lib\\site-packages\\sklearn\\linear_model\\_logistic.py:763: ConvergenceWarning: lbfgs failed to converge (status=1):\n",
      "STOP: TOTAL NO. of ITERATIONS REACHED LIMIT.\n",
      "\n",
      "Increase the number of iterations (max_iter) or scale the data as shown in:\n",
      "    https://scikit-learn.org/stable/modules/preprocessing.html\n",
      "Please also refer to the documentation for alternative solver options:\n",
      "    https://scikit-learn.org/stable/modules/linear_model.html#logistic-regression\n",
      "  n_iter_i = _check_optimize_result(\n",
      "c:\\users\\vinicius silva\\appdata\\local\\programs\\python\\python39\\lib\\site-packages\\sklearn\\linear_model\\_logistic.py:763: ConvergenceWarning: lbfgs failed to converge (status=1):\n",
      "STOP: TOTAL NO. of ITERATIONS REACHED LIMIT.\n",
      "\n",
      "Increase the number of iterations (max_iter) or scale the data as shown in:\n",
      "    https://scikit-learn.org/stable/modules/preprocessing.html\n",
      "Please also refer to the documentation for alternative solver options:\n",
      "    https://scikit-learn.org/stable/modules/linear_model.html#logistic-regression\n",
      "  n_iter_i = _check_optimize_result(\n",
      "c:\\users\\vinicius silva\\appdata\\local\\programs\\python\\python39\\lib\\site-packages\\sklearn\\linear_model\\_logistic.py:763: ConvergenceWarning: lbfgs failed to converge (status=1):\n",
      "STOP: TOTAL NO. of ITERATIONS REACHED LIMIT.\n",
      "\n",
      "Increase the number of iterations (max_iter) or scale the data as shown in:\n",
      "    https://scikit-learn.org/stable/modules/preprocessing.html\n",
      "Please also refer to the documentation for alternative solver options:\n",
      "    https://scikit-learn.org/stable/modules/linear_model.html#logistic-regression\n",
      "  n_iter_i = _check_optimize_result(\n"
     ]
    },
    {
     "name": "stdout",
     "output_type": "stream",
     "text": [
      "  Nome  Resultados\n",
      "0  KNN    0.710153\n",
      "1  SVC    0.757271\n",
      "2   LR    0.771867\n",
      "3   DT    0.689080\n",
      "4  GNB    0.750793\n",
      "5   RF    0.750793\n",
      "6   GB    0.737626\n"
     ]
    }
   ],
   "source": [
    "np.random.seed(7) # definindo uma semente global\n",
    "# Avaliação dos modelos\n",
    "results = []\n",
    "names = []\n",
    "for name, model in models:\n",
    "              \n",
    "        kfold = KFold(n_splits=num_folds)\n",
    "        cv_results = cross_val_score(model, X_train, Y_train, cv=kfold, scoring=scoring).mean()\n",
    "        \n",
    "        \n",
    "        results.append(cv_results)\n",
    "        names.append(name)\n",
    "\n",
    "\n",
    "kf_cross_val = pd.DataFrame({'Nome': names, 'Resultados': results})\n",
    "print(kf_cross_val)"
   ]
  },
  {
   "cell_type": "code",
   "execution_count": 229,
   "id": "9c86b168-0993-49f7-8b0b-db0d51d0532a",
   "metadata": {},
   "outputs": [
    {
     "data": {
      "image/png": "[encoded data removed]",
      "text/plain": [
       "<Figure size 432x288 with 1 Axes>"
      ]
     },
     "metadata": {
      "needs_background": "light"
     },
     "output_type": "display_data"
    }
   ],
   "source": [
    "# Comparação dos modelos\n",
    "axis = sns.barplot(x = 'Nome', y = 'Resultados', data = kf_cross_val)\n",
    "axis.set(xlabel='Classifier', ylabel='Accuracy')\n",
    "for p in axis.patches:\n",
    "    height = p.get_height()\n",
    "    axis.text(p.get_x() + p.get_width()/2, height + 0.005, '{:1.4f}'.format(height), ha=\"center\") \n",
    "    \n",
    "plt.show()"
   ]
  },
  {
   "cell_type": "code",
   "execution_count": 230,
   "id": "d05ee5c0-3ebd-40fa-8404-dccb652c29e8",
   "metadata": {},
   "outputs": [
    {
     "name": "stdout",
     "output_type": "stream",
     "text": [
      "Accuracy score =  0.7987012987012987\n"
     ]
    }
   ],
   "source": [
    "np.random.seed(7) # definindo uma semente global\n",
    "# Preparação do modelo\n",
    "model = LogisticRegression(solver='newton-cg')\n",
    "model.fit(X_train, Y_train)\n",
    "# Estimativa da acurácia no conjunto de teste\n",
    "predictions = model.predict(X_test)\n",
    "print(\"Accuracy score = \", accuracy_score(Y_test, predictions))"
   ]
  },
  {
   "cell_type": "code",
   "execution_count": 231,
   "id": "7ed3ce3c-0025-4b70-93f8-e507d1cf4ae0",
   "metadata": {},
   "outputs": [
    {
     "data": {
      "image/png": "[encoded data removed]",
      "text/plain": [
       "<Figure size 432x288 with 2 Axes>"
      ]
     },
     "metadata": {
      "needs_background": "light"
     },
     "output_type": "display_data"
    },
    {
     "name": "stdout",
     "output_type": "stream",
     "text": [
      "              precision    recall  f1-score   support\n",
      "\n",
      "Sem diabetes       0.79      0.92      0.85        97\n",
      "Com diabetes       0.81      0.60      0.69        57\n",
      "\n",
      "    accuracy                           0.80       154\n",
      "   macro avg       0.80      0.76      0.77       154\n",
      "weighted avg       0.80      0.80      0.79       154\n",
      "\n"
     ]
    }
   ],
   "source": [
    "# Matriz de confusão\n",
    "cm = confusion_matrix(Y_test, predictions)\n",
    "labels = [\"Sem diabetes\",\"Com diabetes\"]\n",
    "cmd = ConfusionMatrixDisplay(cm, display_labels=labels)\n",
    "cmd.plot(values_format=\"d\")\n",
    "plt.show()\n",
    "print(classification_report(Y_test, predictions, target_names=labels))"
   ]
  },
  {
   "cell_type": "code",
   "execution_count": 237,
   "id": "e602b74c-0ef7-49f8-aac9-5d6483244fc8",
   "metadata": {},
   "outputs": [
    {
     "data": {
      "image/png": "[encoded data removed]",
      "text/plain": [
       "<Figure size 432x288 with 1 Axes>"
      ]
     },
     "metadata": {
      "needs_background": "light"
     },
     "output_type": "display_data"
    }
   ],
   "source": [
    "from sklearn import datasets, metrics, model_selection, svm\n",
    "X_train, X_test, Y_train, Y_test = train_test_split(X, Y, test_size=test_size, random_state=seed)\n",
    "clf = svm.SVC(random_state=seed)\n",
    "clf.fit(X_train, Y_train)\n",
    "SVC(random_state=seed)\n",
    "metrics.plot_roc_curve(clf, X_test, Y_test)  \n",
    "plt.show() "
   ]
  },
  {
   "cell_type": "markdown",
   "id": "65c6d796-67e1-478b-906a-f0202c00609e",
   "metadata": {},
   "source": [
    "# <center> **REFERÊNCIAS** </center>\n",
    "-->https://towardsdatascience.com/machine-learning-workflow-on-diabetes-data-part-01-573864fcc6b8 <p>\n",
    "-->https://tatianaesc.medium.com/implementando-um-modelo-de-classifica%C3%A7%C3%A3o-no-scikit-learn-6206d684b377 <p>\n",
    "-->https://www.kaggle.com/anushaharikumar/diabetes-prediction-using-k-nearest-neighbors <p>\n",
    "-->https://www.kaggle.com/sudarvizhia/prediction-of-diabetes-classification-model <p>\n",
    "-->https://www.section.io/engineering-education/diagnose-diabetes-with-svm/ <p>\n",
    "-->https://blogdozouza.wordpress.com/2019/04/10/algoritmo-svm-maquina-de-vetores-de-suporte-a-partir-de-exemplos-e-codigo-python-e-r/ <p>\n",
    "-->https://en.wikipedia.org/wiki/Cross-validation_(statistics) <p>\n",
    "-->https://pt.wikipedia.org/wiki/M%C3%A1quina_de_vetores_de_suporte <p>"
   ]
  },
  {
   "cell_type": "code",
   "execution_count": null,
   "id": "7a5c919c-1718-4f69-af48-2027cb69c7d3",
   "metadata": {},
   "outputs": [],
   "source": []
  }
 ],
 "metadata": {
  "kernelspec": {
   "display_name": "Python 3",
   "language": "python",
   "name": "python3"
  },
  "language_info": {
   "codemirror_mode": {
    "name": "ipython",
    "version": 3
   },
   "file_extension": ".py",
   "mimetype": "text/x-python",
   "name": "python",
   "nbconvert_exporter": "python",
   "pygments_lexer": "ipython3",
   "version": "3.9.5"
  }
 },
 "nbformat": 4,
 "nbformat_minor": 5
}
